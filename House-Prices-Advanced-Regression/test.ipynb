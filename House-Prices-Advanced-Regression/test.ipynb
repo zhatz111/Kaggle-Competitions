{
 "cells": [
  {
   "cell_type": "code",
   "execution_count": 47,
   "metadata": {},
   "outputs": [],
   "source": [
    "import pandas as pd\n",
    "import numpy as np\n",
    "from tensorflow.keras.models import Sequential, load_model\n",
    "from tensorflow.keras.layers import Dense\n",
    "from sklearn.metrics import accuracy_score\n",
    "from sklearn.cross_decomposition import PLSRegression"
   ]
  },
  {
   "cell_type": "code",
   "execution_count": 28,
   "metadata": {},
   "outputs": [],
   "source": [
    "df_train = pd.read_csv(\"data/train.csv\")\n",
    "df_test = pd.read_csv(\"data/test.csv\")\n",
    "X = pd.get_dummies(df_train.drop([\"SalePrice\", \"Id\"],axis=1),dummy_na=True).dropna()\n",
    "Y = pd.get_dummies(df_train.drop([\"Id\"],axis=1),dummy_na=True).dropna()[\"SalePrice\"]\n",
    "X_test = pd.get_dummies(df_test.drop([\"Id\"],axis=1),dummy_na=True).dropna()"
   ]
  },
  {
   "cell_type": "markdown",
   "metadata": {},
   "source": [
    "## PLSR"
   ]
  },
  {
   "cell_type": "code",
   "execution_count": 44,
   "metadata": {},
   "outputs": [],
   "source": [
    "diff = list(set(X.columns) - set(X_test.columns))\n",
    "regressor = PLSRegression(n_components=2)\n",
    "fitted = regressor.fit(X=X.drop(diff,axis=1),Y=Y)"
   ]
  },
  {
   "cell_type": "code",
   "execution_count": 45,
   "metadata": {},
   "outputs": [],
   "source": [
    "predicted = regressor.predict(X=X_test)"
   ]
  },
  {
   "cell_type": "code",
   "execution_count": 46,
   "metadata": {},
   "outputs": [
    {
     "data": {
      "text/plain": [
       "array([[100122.33689148],\n",
       "       [182170.32436747],\n",
       "       [189787.52681022],\n",
       "       ...,\n",
       "       [ 78605.04663458],\n",
       "       [174957.27272733],\n",
       "       [231614.94565817]])"
      ]
     },
     "execution_count": 46,
     "metadata": {},
     "output_type": "execute_result"
    }
   ],
   "source": [
    "predicted"
   ]
  },
  {
   "cell_type": "markdown",
   "metadata": {},
   "source": [
    "## Neural Network"
   ]
  },
  {
   "cell_type": "code",
   "execution_count": 54,
   "metadata": {},
   "outputs": [],
   "source": [
    "X_tensor = np.asarray(X).astype(np.float32)\n",
    "Y_tensor = np.asarray(Y).astype(np.float32)"
   ]
  },
  {
   "cell_type": "code",
   "execution_count": 48,
   "metadata": {},
   "outputs": [],
   "source": [
    "model = Sequential()\n",
    "model.add(Dense(units=32, activation=\"relu\", input_dim=len(X.columns)))\n",
    "model.add(Dense(units=64, activation=\"relu\"))\n",
    "model.add(Dense(units=1, activation=\"sigmoid\"))"
   ]
  },
  {
   "cell_type": "code",
   "execution_count": 49,
   "metadata": {},
   "outputs": [],
   "source": [
    "model.compile(loss=\"binary_crossentropy\", optimizer=\"sgd\", metrics=\"accuracy\")"
   ]
  },
  {
   "cell_type": "code",
   "execution_count": 28,
   "metadata": {},
   "outputs": [
    {
     "name": "stdout",
     "output_type": "stream",
     "text": [
      "1\n"
     ]
    }
   ],
   "source": [
    "class Solution:\n",
    "    def findLongestChain(self, pairs) -> int:\n",
    "        length_longest_chain = 0\n",
    "        chain_length_list = [length_longest_chain]\n",
    "        for count in range(len(pairs)):\n",
    "            if count-1 > 0:\n",
    "                if pairs[count-1][1] <= pairs[count][0]:\n",
    "                    length_longest_chain += 1\n",
    "                    chain_length_list.append(length_longest_chain)\n",
    "                else:\n",
    "                    length_longest_chain = 0\n",
    "        return max(chain_length_list)\n",
    "\n",
    "pairs = [[1,2],[2,3],[3,4]]\n",
    "solution = Solution()\n",
    "print(solution.findLongestChain(pairs))"
   ]
  },
  {
   "cell_type": "code",
   "execution_count": 44,
   "metadata": {},
   "outputs": [
    {
     "name": "stdout",
     "output_type": "stream",
     "text": [
      "[1, 2, 3]\n",
      "[2, 3, 4]\n",
      "\n",
      "[1, 2]\n",
      "[2, 3]\n",
      "\n",
      "[1]\n",
      "[2]\n",
      "\n",
      "4\n"
     ]
    }
   ],
   "source": [
    "class Solution:\n",
    "    def findLongestChain(self, pairs) -> int:\n",
    "        length_longest_chain = 1\n",
    "        first_value_list = []\n",
    "        second_value_list = []\n",
    "        for count in range(len(pairs)):\n",
    "            first_value_list.append(pairs[count][0])\n",
    "            second_value_list.append(pairs[count][1])\n",
    "        for count in range(len(second_value_list)):\n",
    "            print(first_value_list)\n",
    "            print(second_value_list)\n",
    "            print()\n",
    "            first_value = first_value_list[count]\n",
    "            first_value_list.remove(first_value_list[count])\n",
    "            if max(second_value_list) < max(first_value_list):\n",
    "                second_value_list.remove(max(second_value_list))\n",
    "            else:\n",
    "                length_longest_chain += 1\n",
    "                second_value_list.remove(max(second_value_list))\n",
    "                first_value_list.remove(max(first_value_list))\n",
    "        return length_longest_chain\n",
    "\n",
    "\n",
    "pairs = [[1,2],[2,3],[3,4]]\n",
    "solution = Solution()\n",
    "print(solution.findLongestChain(pairs))"
   ]
  },
  {
   "cell_type": "code",
   "execution_count": 45,
   "metadata": {},
   "outputs": [
    {
     "data": {
      "text/plain": [
       "'olleh'"
      ]
     },
     "execution_count": 45,
     "metadata": {},
     "output_type": "execute_result"
    }
   ],
   "source": [
    "string = \"hello\"\n",
    "string[::-1]"
   ]
  },
  {
   "cell_type": "code",
   "execution_count": null,
   "metadata": {},
   "outputs": [],
   "source": []
  }
 ],
 "metadata": {
  "kernelspec": {
   "display_name": "Python 3",
   "language": "python",
   "name": "python3"
  },
  "language_info": {
   "codemirror_mode": {
    "name": "ipython",
    "version": 3
   },
   "file_extension": ".py",
   "mimetype": "text/x-python",
   "name": "python",
   "nbconvert_exporter": "python",
   "pygments_lexer": "ipython3",
   "version": "3.11.4"
  },
  "orig_nbformat": 4
 },
 "nbformat": 4,
 "nbformat_minor": 2
}
