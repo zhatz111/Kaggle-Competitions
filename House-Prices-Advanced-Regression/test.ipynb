{
 "cells": [
  {
   "cell_type": "code",
   "execution_count": 10,
   "metadata": {},
   "outputs": [],
   "source": [
    "import pandas as pd\n",
    "import numpy as np\n",
    "from sklearn.cross_decomposition import PLSRegression"
   ]
  },
  {
   "cell_type": "code",
   "execution_count": 28,
   "metadata": {},
   "outputs": [],
   "source": [
    "df_train = pd.read_csv(\"data/train.csv\")\n",
    "df_test = pd.read_csv(\"data/test.csv\")\n",
    "X = pd.get_dummies(df_train.drop([\"SalePrice\", \"Id\"],axis=1),dummy_na=True).dropna()\n",
    "Y = pd.get_dummies(df_train.drop([\"Id\"],axis=1),dummy_na=True).dropna()[\"SalePrice\"]\n",
    "X_test = pd.get_dummies(df_test.drop([\"Id\"],axis=1),dummy_na=True).dropna()"
   ]
  },
  {
   "cell_type": "code",
   "execution_count": 44,
   "metadata": {},
   "outputs": [],
   "source": [
    "diff = list(set(X.columns) - set(X_test.columns))\n",
    "regressor = PLSRegression(n_components=2)\n",
    "fitted = regressor.fit(X=X.drop(diff,axis=1),Y=Y)"
   ]
  },
  {
   "cell_type": "code",
   "execution_count": 45,
   "metadata": {},
   "outputs": [],
   "source": [
    "predicted = regressor.predict(X=X_test)"
   ]
  },
  {
   "cell_type": "code",
   "execution_count": 46,
   "metadata": {},
   "outputs": [
    {
     "data": {
      "text/plain": [
       "array([[100122.33689148],\n",
       "       [182170.32436747],\n",
       "       [189787.52681022],\n",
       "       ...,\n",
       "       [ 78605.04663458],\n",
       "       [174957.27272733],\n",
       "       [231614.94565817]])"
      ]
     },
     "execution_count": 46,
     "metadata": {},
     "output_type": "execute_result"
    }
   ],
   "source": [
    "predicted"
   ]
  },
  {
   "cell_type": "code",
   "execution_count": null,
   "metadata": {},
   "outputs": [],
   "source": []
  }
 ],
 "metadata": {
  "kernelspec": {
   "display_name": "Python 3",
   "language": "python",
   "name": "python3"
  },
  "language_info": {
   "codemirror_mode": {
    "name": "ipython",
    "version": 3
   },
   "file_extension": ".py",
   "mimetype": "text/x-python",
   "name": "python",
   "nbconvert_exporter": "python",
   "pygments_lexer": "ipython3",
   "version": "3.11.4"
  },
  "orig_nbformat": 4
 },
 "nbformat": 4,
 "nbformat_minor": 2
}
